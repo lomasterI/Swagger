{
  "nbformat": 4,
  "nbformat_minor": 0,
  "metadata": {
    "colab": {
      "name": "petstore_swagger_store.ipynb",
      "provenance": [],
      "collapsed_sections": [],
      "authorship_tag": "ABX9TyO2/vmgQydyCsrbQFrlp0Ok",
      "include_colab_link": true
    },
    "kernelspec": {
      "name": "python3",
      "display_name": "Python 3"
    },
    "language_info": {
      "name": "python"
    }
  },
  "cells": [
    {
      "cell_type": "markdown",
      "metadata": {
        "id": "view-in-github",
        "colab_type": "text"
      },
      "source": [
        "<a href=\"https://colab.research.google.com/github/lomasterI/Swagger/blob/Py_Swagger/petstore_swagger_store.ipynb\" target=\"_parent\"><img src=\"https://colab.research.google.com/assets/colab-badge.svg\" alt=\"Open In Colab\"/></a>"
      ]
    },
    {
      "cell_type": "code",
      "metadata": {
        "id": "kh1JV7gqrQ4u"
      },
      "source": [
        "import unittest\n",
        "import requests"
      ],
      "execution_count": 2,
      "outputs": []
    },
    {
      "cell_type": "code",
      "metadata": {
        "colab": {
          "base_uri": "https://localhost:8080/"
        },
        "id": "QHyKykY2NHzH",
        "outputId": "edcd72f2-837d-4c3d-e5db-5a5c8dd4deae"
      },
      "source": [
        "headers = {\n",
        "  \"id\": 555,\n",
        "  \"petId\": 444,\n",
        "  \"quantity\": 333,\n",
        "  \"shipDate\": \"2021-09-09T03:42:55.386Z\",\n",
        "  \"status\": \"placed\"\n",
        "}\n",
        "response = requests.post('https://petstore.swagger.io/v2/store/order', json = headers)  \n",
        "print (response.json())"
      ],
      "execution_count": 76,
      "outputs": [
        {
          "output_type": "stream",
          "name": "stdout",
          "text": [
            "{'id': 555, 'petId': 444, 'quantity': 333, 'shipDate': '2021-09-09T03:42:55.386+0000', 'status': 'placed', 'complete': False}\n"
          ]
        }
      ]
    },
    {
      "cell_type": "code",
      "metadata": {
        "colab": {
          "base_uri": "https://localhost:8080/"
        },
        "id": "qF-K3_okL4ul",
        "outputId": "5f6a7e9b-35eb-449d-9af1-8b1bec5cb8f6"
      },
      "source": [
        "response = requests.get('https://petstore.swagger.io/v2/store/order/555')  \n",
        "print (response.text)"
      ],
      "execution_count": 77,
      "outputs": [
        {
          "output_type": "stream",
          "name": "stdout",
          "text": [
            "{\"id\":555,\"petId\":515,\"quantity\":151,\"complete\":false}\n"
          ]
        }
      ]
    },
    {
      "cell_type": "code",
      "metadata": {
        "colab": {
          "base_uri": "https://localhost:8080/"
        },
        "id": "VfxmiIfMWqvk",
        "outputId": "56ef6751-3f60-4db5-ed94-fc18e6e54b3a"
      },
      "source": [
        "response = requests.delete('https://petstore.swagger.io/v2/store/order/555')\n",
        "print (response.json())\n",
        "print (response.text)"
      ],
      "execution_count": 88,
      "outputs": [
        {
          "output_type": "stream",
          "name": "stdout",
          "text": [
            "{'code': 200, 'type': 'unknown', 'message': '555'}\n",
            "{\"code\":200,\"type\":\"unknown\",\"message\":\"555\"}\n"
          ]
        }
      ]
    },
    {
      "cell_type": "code",
      "metadata": {
        "colab": {
          "base_uri": "https://localhost:8080/"
        },
        "id": "NuukCfDkZyEM",
        "outputId": "02898711-fcae-4beb-dd35-35b4c456a89f"
      },
      "source": [
        "response = requests.get('https://petstore.swagger.io/v2/store/order/555')  \n",
        "print (response.text)"
      ],
      "execution_count": 89,
      "outputs": [
        {
          "output_type": "stream",
          "name": "stdout",
          "text": [
            "{\"code\":1,\"type\":\"error\",\"message\":\"Order not found\"}\n"
          ]
        }
      ]
    }
  ]
}